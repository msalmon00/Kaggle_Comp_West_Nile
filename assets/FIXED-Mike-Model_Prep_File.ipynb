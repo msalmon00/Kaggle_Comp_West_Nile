{
 "cells": [
  {
   "cell_type": "code",
   "execution_count": 1,
   "metadata": {
    "collapsed": true
   },
   "outputs": [],
   "source": [
    "import pandas as pd\n",
    "import numpy as np\n",
    "import pandas_profiling as pdp\n",
    "\n",
    "import seaborn as sns\n",
    "import matplotlib.pyplot as plt\n",
    "\n",
    "from sklearn.preprocessing import StandardScaler\n",
    "\n",
    "from sklearn.model_selection import train_test_split, cross_val_score, cross_val_predict, GridSearchCV\n",
    "from sklearn.metrics import classification_report, confusion_matrix, accuracy_score\n",
    "from sklearn import metrics, svm\n",
    "from sklearn.linear_model import LogisticRegression, LinearRegression, Lasso\n",
    "from sklearn.neighbors import KNeighborsClassifier, KNeighborsRegressor\n",
    "from sklearn.tree import DecisionTreeClassifier, DecisionTreeRegressor\n",
    "from sklearn.ensemble import RandomForestClassifier, RandomForestRegressor, GradientBoostingClassifier, GradientBoostingRegressor, BaggingRegressor, BaggingClassifier, AdaBoostClassifier\n",
    "\n",
    "\n",
    "\n",
    "# display plots in the notebook\n",
    "%matplotlib inline\n",
    "# increase default figure and font sizes for easier viewing\n",
    "plt.rcParams['figure.figsize'] = (16, 8)\n",
    "plt.rcParams['font.size'] = 12"
   ]
  },
  {
   "cell_type": "code",
   "execution_count": 56,
   "metadata": {},
   "outputs": [],
   "source": [
    "#read in scaled train_X\n",
    "X = pd.read_csv(\"../assets/scaled_train_X.csv\", index_col=0)\n",
    "\n",
    "#read in train_y\n",
    "y = pd.read_csv(\"../assets/clean_train.csv\", index_col=0)\n",
    "y = y[\"WnvPresent\"]"
   ]
  },
  {
   "cell_type": "code",
   "execution_count": 57,
   "metadata": {
    "collapsed": true
   },
   "outputs": [],
   "source": [
    "#read in scaled test_X\n",
    "\n",
    "test_X = pd.read_csv(\"../assets/scaled_test_X.csv\", index_col=0)"
   ]
  },
  {
   "cell_type": "code",
   "execution_count": 58,
   "metadata": {},
   "outputs": [
    {
     "data": {
      "text/html": [
       "<div>\n",
       "<table border=\"1\" class=\"dataframe\">\n",
       "  <thead>\n",
       "    <tr style=\"text-align: right;\">\n",
       "      <th></th>\n",
       "      <th>Tavg</th>\n",
       "      <th>DewPoint</th>\n",
       "      <th>PrecipTotal</th>\n",
       "      <th>StnPressure</th>\n",
       "      <th>AvgSpeed</th>\n",
       "      <th>Precip_7d_avg</th>\n",
       "      <th>wind_abv_1std</th>\n",
       "      <th>Latitude</th>\n",
       "      <th>Longitude</th>\n",
       "      <th>Mos_WNV_Prob</th>\n",
       "      <th>...</th>\n",
       "      <th>Trap_Species_Mos_75percent</th>\n",
       "      <th>Trap_Mos_Mean</th>\n",
       "      <th>Trap_Mos_Median</th>\n",
       "      <th>Trap_Mos_25percent</th>\n",
       "      <th>Trap_Mos_75percent</th>\n",
       "      <th>Species_Mos_Mean</th>\n",
       "      <th>Species_Mos_Median</th>\n",
       "      <th>Species_Mos_25percent</th>\n",
       "      <th>Species_Mos_75percent</th>\n",
       "      <th>Species_Obs_Proportion</th>\n",
       "    </tr>\n",
       "  </thead>\n",
       "  <tbody>\n",
       "    <tr>\n",
       "      <th>0</th>\n",
       "      <td>0.703601</td>\n",
       "      <td>0.43334</td>\n",
       "      <td>-0.319916</td>\n",
       "      <td>0.870826</td>\n",
       "      <td>-0.649931</td>\n",
       "      <td>0.103875</td>\n",
       "      <td>0.0</td>\n",
       "      <td>1.032541</td>\n",
       "      <td>-1.263449</td>\n",
       "      <td>0.17102</td>\n",
       "      <td>...</td>\n",
       "      <td>0.384196</td>\n",
       "      <td>0.384598</td>\n",
       "      <td>0.810110</td>\n",
       "      <td>0.791777</td>\n",
       "      <td>0.502594</td>\n",
       "      <td>0.255114</td>\n",
       "      <td>0.913742</td>\n",
       "      <td>0.676959</td>\n",
       "      <td>0.97549</td>\n",
       "      <td>0.967227</td>\n",
       "    </tr>\n",
       "    <tr>\n",
       "      <th>1</th>\n",
       "      <td>0.703601</td>\n",
       "      <td>0.43334</td>\n",
       "      <td>-0.319916</td>\n",
       "      <td>0.870826</td>\n",
       "      <td>-0.649931</td>\n",
       "      <td>0.103875</td>\n",
       "      <td>0.0</td>\n",
       "      <td>1.214515</td>\n",
       "      <td>-1.546838</td>\n",
       "      <td>0.17102</td>\n",
       "      <td>...</td>\n",
       "      <td>-0.335797</td>\n",
       "      <td>-0.440330</td>\n",
       "      <td>-0.370459</td>\n",
       "      <td>-0.609928</td>\n",
       "      <td>-0.542962</td>\n",
       "      <td>0.255114</td>\n",
       "      <td>0.913742</td>\n",
       "      <td>0.676959</td>\n",
       "      <td>0.97549</td>\n",
       "      <td>0.967227</td>\n",
       "    </tr>\n",
       "    <tr>\n",
       "      <th>2</th>\n",
       "      <td>0.703601</td>\n",
       "      <td>0.43334</td>\n",
       "      <td>-0.319916</td>\n",
       "      <td>0.870826</td>\n",
       "      <td>-0.649931</td>\n",
       "      <td>0.103875</td>\n",
       "      <td>0.0</td>\n",
       "      <td>0.210971</td>\n",
       "      <td>0.482575</td>\n",
       "      <td>0.17102</td>\n",
       "      <td>...</td>\n",
       "      <td>0.224198</td>\n",
       "      <td>-0.124542</td>\n",
       "      <td>0.135499</td>\n",
       "      <td>0.090925</td>\n",
       "      <td>0.117389</td>\n",
       "      <td>0.255114</td>\n",
       "      <td>0.913742</td>\n",
       "      <td>0.676959</td>\n",
       "      <td>0.97549</td>\n",
       "      <td>0.967227</td>\n",
       "    </tr>\n",
       "    <tr>\n",
       "      <th>3</th>\n",
       "      <td>0.703601</td>\n",
       "      <td>0.43334</td>\n",
       "      <td>-0.319916</td>\n",
       "      <td>0.870826</td>\n",
       "      <td>-0.649931</td>\n",
       "      <td>0.103875</td>\n",
       "      <td>0.0</td>\n",
       "      <td>0.700966</td>\n",
       "      <td>0.006295</td>\n",
       "      <td>0.17102</td>\n",
       "      <td>...</td>\n",
       "      <td>-0.447795</td>\n",
       "      <td>-0.482957</td>\n",
       "      <td>-0.707764</td>\n",
       "      <td>-0.609928</td>\n",
       "      <td>-0.653020</td>\n",
       "      <td>0.255114</td>\n",
       "      <td>0.913742</td>\n",
       "      <td>0.676959</td>\n",
       "      <td>0.97549</td>\n",
       "      <td>0.967227</td>\n",
       "    </tr>\n",
       "    <tr>\n",
       "      <th>4</th>\n",
       "      <td>0.703601</td>\n",
       "      <td>0.43334</td>\n",
       "      <td>-0.319916</td>\n",
       "      <td>0.870826</td>\n",
       "      <td>-0.649931</td>\n",
       "      <td>0.103875</td>\n",
       "      <td>0.0</td>\n",
       "      <td>0.725562</td>\n",
       "      <td>0.745953</td>\n",
       "      <td>0.17102</td>\n",
       "      <td>...</td>\n",
       "      <td>-0.127799</td>\n",
       "      <td>-0.312977</td>\n",
       "      <td>-0.201806</td>\n",
       "      <td>0.090925</td>\n",
       "      <td>-0.322845</td>\n",
       "      <td>0.255114</td>\n",
       "      <td>0.913742</td>\n",
       "      <td>0.676959</td>\n",
       "      <td>0.97549</td>\n",
       "      <td>0.967227</td>\n",
       "    </tr>\n",
       "  </tbody>\n",
       "</table>\n",
       "<p>5 rows × 28 columns</p>\n",
       "</div>"
      ],
      "text/plain": [
       "       Tavg  DewPoint  PrecipTotal  StnPressure  AvgSpeed  Precip_7d_avg  \\\n",
       "0  0.703601   0.43334    -0.319916     0.870826 -0.649931       0.103875   \n",
       "1  0.703601   0.43334    -0.319916     0.870826 -0.649931       0.103875   \n",
       "2  0.703601   0.43334    -0.319916     0.870826 -0.649931       0.103875   \n",
       "3  0.703601   0.43334    -0.319916     0.870826 -0.649931       0.103875   \n",
       "4  0.703601   0.43334    -0.319916     0.870826 -0.649931       0.103875   \n",
       "\n",
       "   wind_abv_1std  Latitude  Longitude  Mos_WNV_Prob           ...            \\\n",
       "0            0.0  1.032541  -1.263449       0.17102           ...             \n",
       "1            0.0  1.214515  -1.546838       0.17102           ...             \n",
       "2            0.0  0.210971   0.482575       0.17102           ...             \n",
       "3            0.0  0.700966   0.006295       0.17102           ...             \n",
       "4            0.0  0.725562   0.745953       0.17102           ...             \n",
       "\n",
       "   Trap_Species_Mos_75percent  Trap_Mos_Mean  Trap_Mos_Median  \\\n",
       "0                    0.384196       0.384598         0.810110   \n",
       "1                   -0.335797      -0.440330        -0.370459   \n",
       "2                    0.224198      -0.124542         0.135499   \n",
       "3                   -0.447795      -0.482957        -0.707764   \n",
       "4                   -0.127799      -0.312977        -0.201806   \n",
       "\n",
       "   Trap_Mos_25percent  Trap_Mos_75percent  Species_Mos_Mean  \\\n",
       "0            0.791777            0.502594          0.255114   \n",
       "1           -0.609928           -0.542962          0.255114   \n",
       "2            0.090925            0.117389          0.255114   \n",
       "3           -0.609928           -0.653020          0.255114   \n",
       "4            0.090925           -0.322845          0.255114   \n",
       "\n",
       "   Species_Mos_Median  Species_Mos_25percent  Species_Mos_75percent  \\\n",
       "0            0.913742               0.676959                0.97549   \n",
       "1            0.913742               0.676959                0.97549   \n",
       "2            0.913742               0.676959                0.97549   \n",
       "3            0.913742               0.676959                0.97549   \n",
       "4            0.913742               0.676959                0.97549   \n",
       "\n",
       "   Species_Obs_Proportion  \n",
       "0                0.967227  \n",
       "1                0.967227  \n",
       "2                0.967227  \n",
       "3                0.967227  \n",
       "4                0.967227  \n",
       "\n",
       "[5 rows x 28 columns]"
      ]
     },
     "execution_count": 58,
     "metadata": {},
     "output_type": "execute_result"
    }
   ],
   "source": [
    "X.head()"
   ]
  },
  {
   "cell_type": "code",
   "execution_count": 59,
   "metadata": {},
   "outputs": [
    {
     "data": {
      "text/html": [
       "<div>\n",
       "<table border=\"1\" class=\"dataframe\">\n",
       "  <thead>\n",
       "    <tr style=\"text-align: right;\">\n",
       "      <th></th>\n",
       "      <th>Tavg</th>\n",
       "      <th>DewPoint</th>\n",
       "      <th>PrecipTotal</th>\n",
       "      <th>StnPressure</th>\n",
       "      <th>AvgSpeed</th>\n",
       "      <th>Precip_7d_avg</th>\n",
       "      <th>wind_abv_1std</th>\n",
       "      <th>Latitude</th>\n",
       "      <th>Longitude</th>\n",
       "      <th>Mos_WNV_Prob</th>\n",
       "      <th>...</th>\n",
       "      <th>Trap_Species_Mos_75percent</th>\n",
       "      <th>Trap_Mos_Mean</th>\n",
       "      <th>Trap_Mos_Median</th>\n",
       "      <th>Trap_Mos_25percent</th>\n",
       "      <th>Trap_Mos_75percent</th>\n",
       "      <th>Species_Mos_Mean</th>\n",
       "      <th>Species_Mos_Median</th>\n",
       "      <th>Species_Mos_25percent</th>\n",
       "      <th>Species_Mos_75percent</th>\n",
       "      <th>Species_Obs_Proportion</th>\n",
       "    </tr>\n",
       "  </thead>\n",
       "  <tbody>\n",
       "    <tr>\n",
       "      <th>0</th>\n",
       "      <td>0.703601</td>\n",
       "      <td>0.24584</td>\n",
       "      <td>-0.319916</td>\n",
       "      <td>0.165946</td>\n",
       "      <td>0.448568</td>\n",
       "      <td>0.953593</td>\n",
       "      <td>0.0</td>\n",
       "      <td>0.987891</td>\n",
       "      <td>-1.330045</td>\n",
       "      <td>0.885971</td>\n",
       "      <td>...</td>\n",
       "      <td>0.924092</td>\n",
       "      <td>0.699689</td>\n",
       "      <td>1.006187</td>\n",
       "      <td>0.995285</td>\n",
       "      <td>0.640559</td>\n",
       "      <td>0.974530</td>\n",
       "      <td>0.850425</td>\n",
       "      <td>-0.063763</td>\n",
       "      <td>1.565851</td>\n",
       "      <td>1.975787</td>\n",
       "    </tr>\n",
       "    <tr>\n",
       "      <th>1</th>\n",
       "      <td>0.703601</td>\n",
       "      <td>0.24584</td>\n",
       "      <td>-0.319916</td>\n",
       "      <td>0.165946</td>\n",
       "      <td>0.448568</td>\n",
       "      <td>0.953593</td>\n",
       "      <td>0.0</td>\n",
       "      <td>0.987891</td>\n",
       "      <td>-1.330045</td>\n",
       "      <td>-0.255449</td>\n",
       "      <td>...</td>\n",
       "      <td>0.339315</td>\n",
       "      <td>0.699689</td>\n",
       "      <td>1.006187</td>\n",
       "      <td>0.995285</td>\n",
       "      <td>0.640559</td>\n",
       "      <td>-0.009351</td>\n",
       "      <td>-0.130088</td>\n",
       "      <td>-0.593340</td>\n",
       "      <td>0.234302</td>\n",
       "      <td>0.156427</td>\n",
       "    </tr>\n",
       "    <tr>\n",
       "      <th>2</th>\n",
       "      <td>0.703601</td>\n",
       "      <td>0.24584</td>\n",
       "      <td>-0.319916</td>\n",
       "      <td>0.165946</td>\n",
       "      <td>0.448568</td>\n",
       "      <td>0.953593</td>\n",
       "      <td>0.0</td>\n",
       "      <td>0.987891</td>\n",
       "      <td>-1.330045</td>\n",
       "      <td>1.933189</td>\n",
       "      <td>...</td>\n",
       "      <td>1.070286</td>\n",
       "      <td>0.699689</td>\n",
       "      <td>1.006187</td>\n",
       "      <td>0.995285</td>\n",
       "      <td>0.640559</td>\n",
       "      <td>1.704737</td>\n",
       "      <td>0.360168</td>\n",
       "      <td>-0.063763</td>\n",
       "      <td>0.678152</td>\n",
       "      <td>1.058526</td>\n",
       "    </tr>\n",
       "    <tr>\n",
       "      <th>3</th>\n",
       "      <td>0.703601</td>\n",
       "      <td>0.24584</td>\n",
       "      <td>-0.319916</td>\n",
       "      <td>0.165946</td>\n",
       "      <td>0.448568</td>\n",
       "      <td>0.953593</td>\n",
       "      <td>0.0</td>\n",
       "      <td>0.987891</td>\n",
       "      <td>-1.330045</td>\n",
       "      <td>-0.846322</td>\n",
       "      <td>...</td>\n",
       "      <td>-0.440387</td>\n",
       "      <td>0.699689</td>\n",
       "      <td>1.006187</td>\n",
       "      <td>0.995285</td>\n",
       "      <td>0.640559</td>\n",
       "      <td>-1.060600</td>\n",
       "      <td>-1.110601</td>\n",
       "      <td>-0.593340</td>\n",
       "      <td>-1.097246</td>\n",
       "      <td>-0.832570</td>\n",
       "    </tr>\n",
       "    <tr>\n",
       "      <th>4</th>\n",
       "      <td>0.703601</td>\n",
       "      <td>0.24584</td>\n",
       "      <td>-0.319916</td>\n",
       "      <td>0.165946</td>\n",
       "      <td>0.448568</td>\n",
       "      <td>0.953593</td>\n",
       "      <td>0.0</td>\n",
       "      <td>0.987891</td>\n",
       "      <td>-1.330045</td>\n",
       "      <td>-0.846322</td>\n",
       "      <td>...</td>\n",
       "      <td>-0.440387</td>\n",
       "      <td>0.699689</td>\n",
       "      <td>1.006187</td>\n",
       "      <td>0.995285</td>\n",
       "      <td>0.640559</td>\n",
       "      <td>-0.980347</td>\n",
       "      <td>-1.110601</td>\n",
       "      <td>-0.593340</td>\n",
       "      <td>-1.097246</td>\n",
       "      <td>-0.817068</td>\n",
       "    </tr>\n",
       "  </tbody>\n",
       "</table>\n",
       "<p>5 rows × 28 columns</p>\n",
       "</div>"
      ],
      "text/plain": [
       "       Tavg  DewPoint  PrecipTotal  StnPressure  AvgSpeed  Precip_7d_avg  \\\n",
       "0  0.703601   0.24584    -0.319916     0.165946  0.448568       0.953593   \n",
       "1  0.703601   0.24584    -0.319916     0.165946  0.448568       0.953593   \n",
       "2  0.703601   0.24584    -0.319916     0.165946  0.448568       0.953593   \n",
       "3  0.703601   0.24584    -0.319916     0.165946  0.448568       0.953593   \n",
       "4  0.703601   0.24584    -0.319916     0.165946  0.448568       0.953593   \n",
       "\n",
       "   wind_abv_1std  Latitude  Longitude  Mos_WNV_Prob           ...            \\\n",
       "0            0.0  0.987891  -1.330045      0.885971           ...             \n",
       "1            0.0  0.987891  -1.330045     -0.255449           ...             \n",
       "2            0.0  0.987891  -1.330045      1.933189           ...             \n",
       "3            0.0  0.987891  -1.330045     -0.846322           ...             \n",
       "4            0.0  0.987891  -1.330045     -0.846322           ...             \n",
       "\n",
       "   Trap_Species_Mos_75percent  Trap_Mos_Mean  Trap_Mos_Median  \\\n",
       "0                    0.924092       0.699689         1.006187   \n",
       "1                    0.339315       0.699689         1.006187   \n",
       "2                    1.070286       0.699689         1.006187   \n",
       "3                   -0.440387       0.699689         1.006187   \n",
       "4                   -0.440387       0.699689         1.006187   \n",
       "\n",
       "   Trap_Mos_25percent  Trap_Mos_75percent  Species_Mos_Mean  \\\n",
       "0            0.995285            0.640559          0.974530   \n",
       "1            0.995285            0.640559         -0.009351   \n",
       "2            0.995285            0.640559          1.704737   \n",
       "3            0.995285            0.640559         -1.060600   \n",
       "4            0.995285            0.640559         -0.980347   \n",
       "\n",
       "   Species_Mos_Median  Species_Mos_25percent  Species_Mos_75percent  \\\n",
       "0            0.850425              -0.063763               1.565851   \n",
       "1           -0.130088              -0.593340               0.234302   \n",
       "2            0.360168              -0.063763               0.678152   \n",
       "3           -1.110601              -0.593340              -1.097246   \n",
       "4           -1.110601              -0.593340              -1.097246   \n",
       "\n",
       "   Species_Obs_Proportion  \n",
       "0                1.975787  \n",
       "1                0.156427  \n",
       "2                1.058526  \n",
       "3               -0.832570  \n",
       "4               -0.817068  \n",
       "\n",
       "[5 rows x 28 columns]"
      ]
     },
     "execution_count": 59,
     "metadata": {},
     "output_type": "execute_result"
    }
   ],
   "source": [
    "test_X.head()"
   ]
  },
  {
   "cell_type": "code",
   "execution_count": 60,
   "metadata": {},
   "outputs": [
    {
     "data": {
      "text/plain": [
       "0    0.0\n",
       "1    0.0\n",
       "2    0.0\n",
       "3    0.0\n",
       "4    0.0\n",
       "Name: WnvPresent, dtype: float64"
      ]
     },
     "execution_count": 60,
     "metadata": {},
     "output_type": "execute_result"
    }
   ],
   "source": [
    "y.head()"
   ]
  },
  {
   "cell_type": "code",
   "execution_count": null,
   "metadata": {
    "collapsed": true
   },
   "outputs": [],
   "source": []
  },
  {
   "cell_type": "code",
   "execution_count": 61,
   "metadata": {
    "collapsed": true
   },
   "outputs": [],
   "source": [
    "#creating function to test and fit classification model (created for SVM lab)\n",
    "def do_cm_cr(model, X, y, names): \n",
    "    X_train, X_test, y_train, y_test = train_test_split(X, y, test_size=0.33, random_state=42, stratify=y)\n",
    "    model.fit(X_train, y_train)\n",
    "    y_probs = model.predict(X_test)    #predict y values for X_test\n",
    "    print \"Output for Tested Model:\"\n",
    "    print \"Confusion Matrix of Predictions: \"\n",
    "    print\n",
    "    print(confusion_matrix(y_test, y_probs)) # Actual values are rows (0, 1), while predicted are columns (0, 1); \n",
    "    print\n",
    "    #printing classification report\n",
    "    #precision is true positives / (true positives + false positives) - of all predicted, % correct\n",
    "    #recall is true positives / (true positives + false negatives) - of all actual, % correct\n",
    "    #f1-score is a weighted harmonic mean of the precision and recall, f1-score reaches best value at 1 and worst at 0.\n",
    "    #support is number of true values for each class\n",
    "    print \"Classification Matrix: \"\n",
    "    print\n",
    "    print(classification_report(y_test, y_probs, target_names=names))\n",
    "    return model.score(X_test,y_test)"
   ]
  },
  {
   "cell_type": "code",
   "execution_count": 62,
   "metadata": {},
   "outputs": [
    {
     "name": "stdout",
     "output_type": "stream",
     "text": [
      "Output for Tested Model:\n",
      "Confusion Matrix of Predictions: \n",
      "\n",
      "[[2646    0]\n",
      " [ 151    0]]\n",
      "\n",
      "Classification Matrix: \n",
      "\n",
      "             precision    recall  f1-score   support\n",
      "\n",
      "     no_Wnv       0.95      1.00      0.97      2646\n",
      "    yes_Wnv       0.00      0.00      0.00       151\n",
      "\n",
      "avg / total       0.89      0.95      0.92      2797\n",
      "\n"
     ]
    },
    {
     "name": "stderr",
     "output_type": "stream",
     "text": [
      "/Users/michaelsalmon/anaconda/lib/python2.7/site-packages/sklearn/metrics/classification.py:1113: UndefinedMetricWarning: Precision and F-score are ill-defined and being set to 0.0 in labels with no predicted samples.\n",
      "  'precision', 'predicted', average, warn_for)\n"
     ]
    },
    {
     "data": {
      "text/plain": [
       "0.94601358598498386"
      ]
     },
     "execution_count": 62,
     "metadata": {},
     "output_type": "execute_result"
    }
   ],
   "source": [
    "#we'll start with Logistic Regression\n",
    "logreg = LogisticRegression()\n",
    "\n",
    "do_cm_cr(logreg, X, y, [\"no_Wnv\", \"yes_Wnv\"])\n"
   ]
  },
  {
   "cell_type": "code",
   "execution_count": 63,
   "metadata": {},
   "outputs": [
    {
     "name": "stdout",
     "output_type": "stream",
     "text": [
      "Output for Tested Model:\n",
      "Confusion Matrix of Predictions: \n",
      "\n",
      "[[2643    3]\n",
      " [ 151    0]]\n",
      "\n",
      "Classification Matrix: \n",
      "\n",
      "             precision    recall  f1-score   support\n",
      "\n",
      "     no_Wnv       0.95      1.00      0.97      2646\n",
      "    yes_Wnv       0.00      0.00      0.00       151\n",
      "\n",
      "avg / total       0.89      0.94      0.92      2797\n",
      "\n"
     ]
    },
    {
     "data": {
      "text/plain": [
       "0.94494100822309612"
      ]
     },
     "execution_count": 63,
     "metadata": {},
     "output_type": "execute_result"
    }
   ],
   "source": [
    "#k-nearest neighbors\n",
    "knnc = KNeighborsClassifier()\n",
    "\n",
    "do_cm_cr(knnc, X, y, [\"no_Wnv\", \"yes_Wnv\"])\n",
    "\n",
    "#After scaling the X data, the knnc performs effectively as well as logistic regression\n"
   ]
  },
  {
   "cell_type": "code",
   "execution_count": 64,
   "metadata": {},
   "outputs": [
    {
     "name": "stdout",
     "output_type": "stream",
     "text": [
      "Output for Tested Model:\n",
      "Confusion Matrix of Predictions: \n",
      "\n",
      "[[2646    0]\n",
      " [ 151    0]]\n",
      "\n",
      "Classification Matrix: \n",
      "\n",
      "             precision    recall  f1-score   support\n",
      "\n",
      "     no_Wnv       0.95      1.00      0.97      2646\n",
      "    yes_Wnv       0.00      0.00      0.00       151\n",
      "\n",
      "avg / total       0.89      0.95      0.92      2797\n",
      "\n"
     ]
    },
    {
     "data": {
      "text/plain": [
       "0.94601358598498386"
      ]
     },
     "execution_count": 64,
     "metadata": {},
     "output_type": "execute_result"
    }
   ],
   "source": [
    "#SVM with linear kernal\n",
    "lin_svm = svm.SVC(kernel='linear')\n",
    "\n",
    "do_cm_cr(lin_svm, X, y, [\"no_Wnv\", \"yes_Wnv\"])\n",
    "\n",
    "#SVM with linear model predict 0 instances of WNV - wow."
   ]
  },
  {
   "cell_type": "code",
   "execution_count": 65,
   "metadata": {},
   "outputs": [
    {
     "name": "stdout",
     "output_type": "stream",
     "text": [
      "Output for Tested Model:\n",
      "Confusion Matrix of Predictions: \n",
      "\n",
      "[[2646    0]\n",
      " [ 151    0]]\n",
      "\n",
      "Classification Matrix: \n",
      "\n",
      "             precision    recall  f1-score   support\n",
      "\n",
      "     no_Wnv       0.95      1.00      0.97      2646\n",
      "    yes_Wnv       0.00      0.00      0.00       151\n",
      "\n",
      "avg / total       0.89      0.95      0.92      2797\n",
      "\n"
     ]
    },
    {
     "data": {
      "text/plain": [
       "0.94601358598498386"
      ]
     },
     "execution_count": 65,
     "metadata": {},
     "output_type": "execute_result"
    }
   ],
   "source": [
    "#SVM with rbf kernal\n",
    "rbf_svm = svm.SVC(kernel='rbf')\n",
    "\n",
    "do_cm_cr(rbf_svm, X, y, [\"no_Wnv\", \"yes_Wnv\"])\n",
    "\n",
    "#SVM with rbf model predicted a whopping 1 instance of WNV, but at least it predicted that one correctly."
   ]
  },
  {
   "cell_type": "code",
   "execution_count": 66,
   "metadata": {},
   "outputs": [
    {
     "name": "stdout",
     "output_type": "stream",
     "text": [
      "Output for Tested Model:\n",
      "Confusion Matrix of Predictions: \n",
      "\n",
      "[[2464  182]\n",
      " [ 135   16]]\n",
      "\n",
      "Classification Matrix: \n",
      "\n",
      "             precision    recall  f1-score   support\n",
      "\n",
      "     no_Wnv       0.95      0.93      0.94      2646\n",
      "    yes_Wnv       0.08      0.11      0.09       151\n",
      "\n",
      "avg / total       0.90      0.89      0.89      2797\n",
      "\n"
     ]
    },
    {
     "data": {
      "text/plain": [
       "0.88666428316052914"
      ]
     },
     "execution_count": 66,
     "metadata": {},
     "output_type": "execute_result"
    }
   ],
   "source": [
    "#normal decision tree\n",
    "drc = DecisionTreeClassifier()\n",
    "\n",
    "do_cm_cr(drc, X, y, [\"no_Wnv\", \"yes_Wnv\"])"
   ]
  },
  {
   "cell_type": "code",
   "execution_count": 67,
   "metadata": {},
   "outputs": [
    {
     "name": "stdout",
     "output_type": "stream",
     "text": [
      "Output for Tested Model:\n",
      "Confusion Matrix of Predictions: \n",
      "\n",
      "[[2640    6]\n",
      " [ 149    2]]\n",
      "\n",
      "Classification Matrix: \n",
      "\n",
      "             precision    recall  f1-score   support\n",
      "\n",
      "     no_Wnv       0.95      1.00      0.97      2646\n",
      "    yes_Wnv       0.25      0.01      0.03       151\n",
      "\n",
      "avg / total       0.91      0.94      0.92      2797\n",
      "\n"
     ]
    },
    {
     "data": {
      "text/plain": [
       "0.94458348230246691"
      ]
     },
     "execution_count": 67,
     "metadata": {},
     "output_type": "execute_result"
    }
   ],
   "source": [
    "#random forest\n",
    "rfc = RandomForestClassifier()\n",
    "\n",
    "do_cm_cr(rfc, X, y, [\"no_Wnv\", \"yes_Wnv\"])"
   ]
  },
  {
   "cell_type": "code",
   "execution_count": 68,
   "metadata": {},
   "outputs": [
    {
     "name": "stdout",
     "output_type": "stream",
     "text": [
      "Output for Tested Model:\n",
      "Confusion Matrix of Predictions: \n",
      "\n",
      "[[2643    3]\n",
      " [ 150    1]]\n",
      "\n",
      "Classification Matrix: \n",
      "\n",
      "             precision    recall  f1-score   support\n",
      "\n",
      "     no_Wnv       0.95      1.00      0.97      2646\n",
      "    yes_Wnv       0.25      0.01      0.01       151\n",
      "\n",
      "avg / total       0.91      0.95      0.92      2797\n",
      "\n"
     ]
    },
    {
     "data": {
      "text/plain": [
       "0.94529853414372544"
      ]
     },
     "execution_count": 68,
     "metadata": {},
     "output_type": "execute_result"
    }
   ],
   "source": [
    "#gradient boosting classifier\n",
    "gbc = GradientBoostingClassifier()\n",
    "\n",
    "do_cm_cr(gbc, X, y, [\"no_Wnv\", \"yes_Wnv\"])\n"
   ]
  },
  {
   "cell_type": "code",
   "execution_count": 69,
   "metadata": {},
   "outputs": [
    {
     "name": "stdout",
     "output_type": "stream",
     "text": [
      "Output for Tested Model:\n",
      "Confusion Matrix of Predictions: \n",
      "\n",
      "[[2646    0]\n",
      " [ 151    0]]\n",
      "\n",
      "Classification Matrix: \n",
      "\n",
      "             precision    recall  f1-score   support\n",
      "\n",
      "     no_Wnv       0.95      1.00      0.97      2646\n",
      "    yes_Wnv       0.00      0.00      0.00       151\n",
      "\n",
      "avg / total       0.89      0.95      0.92      2797\n",
      "\n"
     ]
    },
    {
     "data": {
      "text/plain": [
       "0.94601358598498386"
      ]
     },
     "execution_count": 69,
     "metadata": {},
     "output_type": "execute_result"
    }
   ],
   "source": [
    "#gradient boosting classifier\n",
    "bcgbc = GradientBoostingClassifier()\n",
    "\n",
    "bc = BaggingClassifier(bcgbc)\n",
    "\n",
    "do_cm_cr(bc, X, y, [\"no_Wnv\", \"yes_Wnv\"])\n",
    "\n"
   ]
  },
  {
   "cell_type": "code",
   "execution_count": null,
   "metadata": {
    "collapsed": true
   },
   "outputs": [],
   "source": []
  },
  {
   "cell_type": "code",
   "execution_count": null,
   "metadata": {
    "collapsed": true
   },
   "outputs": [],
   "source": []
  },
  {
   "cell_type": "code",
   "execution_count": null,
   "metadata": {
    "collapsed": true
   },
   "outputs": [],
   "source": [
    "#predicting WNV based on fit models (substitute name of fit model for \"model\" in code below)\n",
    "test_probs = model.predict_proba(test_X)"
   ]
  },
  {
   "cell_type": "code",
   "execution_count": null,
   "metadata": {
    "collapsed": true
   },
   "outputs": [],
   "source": [
    "#creating DF of resultant predicted probabilties\n",
    "test_probs = pd.DataFrame(test_probs, columns = [\"No_Predict\", \"Yes_Predict\"])"
   ]
  },
  {
   "cell_type": "code",
   "execution_count": null,
   "metadata": {
    "collapsed": true
   },
   "outputs": [],
   "source": []
  },
  {
   "cell_type": "code",
   "execution_count": null,
   "metadata": {
    "collapsed": true
   },
   "outputs": [],
   "source": [
    "#reading in sample submission file\n",
    "\n",
    "sampsub = pd.read_csv(\"../assets/sampleSubmission.csv\", index_col = 0) "
   ]
  },
  {
   "cell_type": "code",
   "execution_count": null,
   "metadata": {
    "collapsed": true
   },
   "outputs": [],
   "source": [
    "sampsub.head()\n",
    "#sample submission is simply a list of the trap IDs along with the prediction of whether each has WnvPresent\n",
    "#Note from Kaggle page, For each record in the test set, you should predict a real-valued probability that WNV \n",
    "#is present. That is, they shouldn't just be 0 or 1, but should be probabilities (e.g., 0.2, 0.9)\n",
    "\n",
    "# see page here: https://www.kaggle.com/c/predict-west-nile-virus#evaluation"
   ]
  },
  {
   "cell_type": "code",
   "execution_count": null,
   "metadata": {
    "collapsed": true
   },
   "outputs": [],
   "source": [
    "#adding 1 to index values of test_probs to ensure they line up appropriately with sampsub id numbers\n",
    "test_probs.index += 1"
   ]
  },
  {
   "cell_type": "code",
   "execution_count": null,
   "metadata": {
    "collapsed": true
   },
   "outputs": [],
   "source": [
    "# transferring probabilities from test probs into sampsub df\n",
    "sampsub[\"WnvPresent\"] = test_probs[\"Yes_Predict\"]"
   ]
  },
  {
   "cell_type": "code",
   "execution_count": null,
   "metadata": {
    "collapsed": true
   },
   "outputs": [],
   "source": [
    "#saving submission file to assets folder (use unique name!)\n",
    "sampsub.to_csv(\"../assets/wnvsubmit_[your unique name here].csv\")\n"
   ]
  }
 ],
 "metadata": {
  "kernelspec": {
   "display_name": "Python 2",
   "language": "python",
   "name": "python2"
  },
  "language_info": {
   "codemirror_mode": {
    "name": "ipython",
    "version": 2
   },
   "file_extension": ".py",
   "mimetype": "text/x-python",
   "name": "python",
   "nbconvert_exporter": "python",
   "pygments_lexer": "ipython2",
   "version": "2.7.13"
  }
 },
 "nbformat": 4,
 "nbformat_minor": 2
}
